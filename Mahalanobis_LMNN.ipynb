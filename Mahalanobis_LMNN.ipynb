{
 "cells": [
  {
   "cell_type": "code",
   "execution_count": 1,
   "id": "bdd9e187",
   "metadata": {},
   "outputs": [],
   "source": [
    "import numpy as np"
   ]
  },
  {
   "cell_type": "code",
   "execution_count": 2,
   "id": "74ba02e3",
   "metadata": {},
   "outputs": [],
   "source": [
    "from scipy.linalg import inv"
   ]
  },
  {
   "cell_type": "code",
   "execution_count": 4,
   "id": "8fa6098f",
   "metadata": {},
   "outputs": [],
   "source": [
    "import matplotlib.pyplot as plt"
   ]
  },
  {
   "cell_type": "markdown",
   "id": "cb4e5634",
   "metadata": {},
   "source": [
    "# Euclidean formula #"
   ]
  },
  {
   "cell_type": "code",
   "execution_count": 19,
   "id": "2de9b6af",
   "metadata": {},
   "outputs": [],
   "source": [
    "n = 20"
   ]
  },
  {
   "cell_type": "code",
   "execution_count": 20,
   "id": "ae00f71a",
   "metadata": {},
   "outputs": [],
   "source": [
    "def my_euclidean(x, y):\n",
    "    n = x.shape[0]\n",
    "    x_y = x - y\n",
    "    out = x_y @ x_y.T\n",
    "    return out ** 0.5"
   ]
  },
  {
   "cell_type": "code",
   "execution_count": 21,
   "id": "db7c73fa",
   "metadata": {},
   "outputs": [],
   "source": [
    "pt_1 = np.random.uniform(-1, 1, n)\n",
    "pt_2 = np.random.uniform(-1, 1, n)"
   ]
  },
  {
   "cell_type": "code",
   "execution_count": 22,
   "id": "6d0fcca8",
   "metadata": {},
   "outputs": [
    {
     "data": {
      "text/plain": [
       "3.9203991332411294"
      ]
     },
     "execution_count": 22,
     "metadata": {},
     "output_type": "execute_result"
    }
   ],
   "source": [
    "my_euclidean(pt_1, pt_2)"
   ]
  },
  {
   "cell_type": "code",
   "execution_count": 23,
   "id": "cc2f153d",
   "metadata": {},
   "outputs": [
    {
     "data": {
      "text/plain": [
       "3.9203991332411294"
      ]
     },
     "execution_count": 23,
     "metadata": {},
     "output_type": "execute_result"
    }
   ],
   "source": [
    "euclidean(pt_1, pt_2)"
   ]
  },
  {
   "cell_type": "markdown",
   "id": "998d35b1",
   "metadata": {},
   "source": [
    "# Mahalanobis with identity matrix is Euclidean distance #"
   ]
  },
  {
   "cell_type": "code",
   "execution_count": 6,
   "id": "58282a54",
   "metadata": {},
   "outputs": [],
   "source": [
    "n = 20"
   ]
  },
  {
   "cell_type": "code",
   "execution_count": 7,
   "id": "d017f66a",
   "metadata": {},
   "outputs": [],
   "source": [
    "from scipy.spatial.distance import euclidean, mahalanobis"
   ]
  },
  {
   "cell_type": "code",
   "execution_count": 8,
   "id": "b9d498bf",
   "metadata": {},
   "outputs": [],
   "source": [
    "mah_matr = np.eye(n)"
   ]
  },
  {
   "cell_type": "code",
   "execution_count": 9,
   "id": "80b5c94e",
   "metadata": {},
   "outputs": [],
   "source": [
    "pt_1 = np.random.uniform(-1, 1, n)\n",
    "pt_2 = np.random.uniform(-1, 1, n)"
   ]
  },
  {
   "cell_type": "code",
   "execution_count": 10,
   "id": "7b6c01c9",
   "metadata": {},
   "outputs": [
    {
     "data": {
      "text/plain": [
       "4.32960290693301"
      ]
     },
     "execution_count": 10,
     "metadata": {},
     "output_type": "execute_result"
    }
   ],
   "source": [
    "euclidean(pt_1, pt_2)"
   ]
  },
  {
   "cell_type": "code",
   "execution_count": 11,
   "id": "89ad6601",
   "metadata": {},
   "outputs": [
    {
     "data": {
      "text/plain": [
       "4.32960290693301"
      ]
     },
     "execution_count": 11,
     "metadata": {},
     "output_type": "execute_result"
    }
   ],
   "source": [
    "mahalanobis(pt_1, pt_2, mah_matr)"
   ]
  },
  {
   "cell_type": "markdown",
   "id": "7b868f2f",
   "metadata": {},
   "source": [
    "# Mahalanobis with inverse component variance matrix is SEuclidean distance #"
   ]
  },
  {
   "cell_type": "code",
   "execution_count": 12,
   "id": "10c2e121",
   "metadata": {},
   "outputs": [],
   "source": [
    "n = 20"
   ]
  },
  {
   "cell_type": "code",
   "execution_count": 13,
   "id": "5217db74",
   "metadata": {},
   "outputs": [],
   "source": [
    "from scipy.spatial.distance import seuclidean"
   ]
  },
  {
   "cell_type": "code",
   "execution_count": 14,
   "id": "453442fd",
   "metadata": {},
   "outputs": [],
   "source": [
    "pt_var = np.random.uniform(0, 3, n)"
   ]
  },
  {
   "cell_type": "code",
   "execution_count": 15,
   "id": "8558fc6c",
   "metadata": {},
   "outputs": [],
   "source": [
    "pt_1 = np.random.normal(0, pt_var, n)\n",
    "pt_2 = np.random.normal(0, pt_var, n)"
   ]
  },
  {
   "cell_type": "code",
   "execution_count": 16,
   "id": "f360d72d",
   "metadata": {},
   "outputs": [],
   "source": [
    "mah_matr = np.diag(1 / pt_var)"
   ]
  },
  {
   "cell_type": "code",
   "execution_count": 17,
   "id": "9e6d1d13",
   "metadata": {},
   "outputs": [
    {
     "data": {
      "text/plain": [
       "7.800937396465261"
      ]
     },
     "execution_count": 17,
     "metadata": {},
     "output_type": "execute_result"
    }
   ],
   "source": [
    "seuclidean(pt_1, pt_2, pt_var)"
   ]
  },
  {
   "cell_type": "code",
   "execution_count": 18,
   "id": "53df864a",
   "metadata": {},
   "outputs": [
    {
     "data": {
      "text/plain": [
       "7.80093739646526"
      ]
     },
     "execution_count": 18,
     "metadata": {},
     "output_type": "execute_result"
    }
   ],
   "source": [
    "mahalanobis(pt_1, pt_2, mah_matr)"
   ]
  },
  {
   "cell_type": "markdown",
   "id": "b023bb94",
   "metadata": {},
   "source": [
    "# Mahalanobis as dimensionality reducer #"
   ]
  },
  {
   "cell_type": "code",
   "execution_count": 158,
   "id": "6e97b093",
   "metadata": {},
   "outputs": [],
   "source": [
    "pt_1 = np.random.uniform([-1, -1], [0, 1], (1, 2))\n",
    "pt_2 = np.random.uniform([0, -1], [1, 1], (1, 2))"
   ]
  },
  {
   "cell_type": "code",
   "execution_count": 167,
   "id": "25d72e49",
   "metadata": {},
   "outputs": [],
   "source": [
    "mah_matr = np.diag([0.0001, 1])"
   ]
  },
  {
   "cell_type": "code",
   "execution_count": 168,
   "id": "c9ce2189",
   "metadata": {},
   "outputs": [
    {
     "data": {
      "text/plain": [
       "(array([[-0.55430411,  0.62027112]]), array([[0.54790568, 0.02847197]]))"
      ]
     },
     "execution_count": 168,
     "metadata": {},
     "output_type": "execute_result"
    }
   ],
   "source": [
    "pt_1, pt_2"
   ]
  },
  {
   "cell_type": "code",
   "execution_count": 169,
   "id": "ba7e8ee4",
   "metadata": {},
   "outputs": [
    {
     "data": {
      "text/plain": [
       "0.5919017792956578"
      ]
     },
     "execution_count": 169,
     "metadata": {},
     "output_type": "execute_result"
    }
   ],
   "source": [
    "mahalanobis(pt_1, pt_2, mah_matr)"
   ]
  },
  {
   "cell_type": "markdown",
   "id": "17a6a9f2",
   "metadata": {},
   "source": [
    "# LMNN #"
   ]
  },
  {
   "cell_type": "markdown",
   "id": "c53a6366",
   "metadata": {},
   "source": [
    "We have a classification problem, in which only one of two given features correlates with target."
   ]
  },
  {
   "cell_type": "code",
   "execution_count": 266,
   "id": "24ca4d21",
   "metadata": {},
   "outputs": [],
   "source": [
    "n = 500"
   ]
  },
  {
   "cell_type": "code",
   "execution_count": 268,
   "id": "f0dbc2c9",
   "metadata": {},
   "outputs": [],
   "source": [
    "cluster_1 = np.random.uniform([-15, -2], [15, 0], (n, 2))\n",
    "cluster_2 = np.random.uniform([-15, 0], [15, 2], (n // 2, 2))"
   ]
  },
  {
   "cell_type": "code",
   "execution_count": 269,
   "id": "608aab28",
   "metadata": {},
   "outputs": [],
   "source": [
    "data_lmnn = np.concatenate([cluster_1, cluster_2], axis=0)"
   ]
  },
  {
   "cell_type": "code",
   "execution_count": 270,
   "id": "08f74987",
   "metadata": {},
   "outputs": [
    {
     "data": {
      "image/png": "[encoded data removed]",
      "text/plain": [
       "<Figure size 432x288 with 1 Axes>"
      ]
     },
     "metadata": {
      "needs_background": "light"
     },
     "output_type": "display_data"
    }
   ],
   "source": [
    "plot_data(data_lmnn)"
   ]
  },
  {
   "cell_type": "code",
   "execution_count": 273,
   "id": "5cf36a6d",
   "metadata": {},
   "outputs": [],
   "source": [
    "y = np.concatenate([[0] * n, [1] * (n // 2)])"
   ]
  },
  {
   "cell_type": "code",
   "execution_count": 275,
   "id": "efffd77e",
   "metadata": {},
   "outputs": [],
   "source": [
    "from sklearn.model_selection import train_test_split"
   ]
  },
  {
   "cell_type": "code",
   "execution_count": 298,
   "id": "1e1f867d",
   "metadata": {},
   "outputs": [
    {
     "data": {
      "image/png": "[encoded data removed]",
      "text/plain": [
       "<Figure size 432x288 with 1 Axes>"
      ]
     },
     "metadata": {
      "needs_background": "light"
     },
     "output_type": "display_data"
    }
   ],
   "source": [
    "sns.scatterplot(data_lmnn[:, 0], data_lmnn[:, 1], hue = y)\n",
    "plt.legend(bbox_to_anchor=(1.04,1), loc=\"upper left\")\n",
    "plt.show()"
   ]
  },
  {
   "cell_type": "code",
   "execution_count": 276,
   "id": "4777189a",
   "metadata": {},
   "outputs": [],
   "source": [
    "X_train, X_test, y_train, y_test = train_test_split(data_lmnn, y, shuffle = True, test_size=0.5)"
   ]
  },
  {
   "cell_type": "code",
   "execution_count": 277,
   "id": "d2521e0c",
   "metadata": {},
   "outputs": [],
   "source": [
    "from sklearn.neighbors import KNeighborsClassifier"
   ]
  },
  {
   "cell_type": "code",
   "execution_count": 278,
   "id": "fddc820c",
   "metadata": {},
   "outputs": [],
   "source": [
    "from sklearn.metrics import accuracy_score as acc"
   ]
  },
  {
   "cell_type": "code",
   "execution_count": 280,
   "id": "90003e51",
   "metadata": {},
   "outputs": [],
   "source": [
    "import matplotlib.pyplot as plt\n",
    "import seaborn as sns"
   ]
  },
  {
   "cell_type": "code",
   "execution_count": 94,
   "id": "b8acc96e",
   "metadata": {},
   "outputs": [
    {
     "name": "stdout",
     "output_type": "stream",
     "text": [
      "Requirement already satisfied: metric_learn in /home/vlad/.local/lib/python3.8/site-packages (0.6.2)\n",
      "Requirement already satisfied: scikit-learn>=0.20.3 in /home/vlad/.local/lib/python3.8/site-packages (from metric_learn) (1.1.1)\n",
      "Requirement already satisfied: scipy in /usr/lib/python3/dist-packages (from metric_learn) (1.3.3)\n",
      "Requirement already satisfied: numpy in /usr/lib/python3/dist-packages (from metric_learn) (1.17.4)\n",
      "Requirement already satisfied: threadpoolctl>=2.0.0 in /home/vlad/.local/lib/python3.8/site-packages (from scikit-learn>=0.20.3->metric_learn) (3.1.0)\n",
      "Requirement already satisfied: joblib>=1.0.0 in /home/vlad/.local/lib/python3.8/site-packages (from scikit-learn>=0.20.3->metric_learn) (1.1.0)\n"
     ]
    }
   ],
   "source": [
    "!pip install metric_learn"
   ]
  },
  {
   "cell_type": "code",
   "execution_count": 95,
   "id": "32517c3a",
   "metadata": {},
   "outputs": [],
   "source": [
    "import metric_learn\n",
    "from metric_learn import LMNN"
   ]
  },
  {
   "cell_type": "code",
   "execution_count": 201,
   "id": "50996444",
   "metadata": {},
   "outputs": [],
   "source": [
    "from tqdm import tqdm"
   ]
  },
  {
   "cell_type": "code",
   "execution_count": 214,
   "id": "02932271",
   "metadata": {},
   "outputs": [],
   "source": [
    "from sklearn.preprocessing import StandardScaler"
   ]
  },
  {
   "cell_type": "code",
   "execution_count": 289,
   "id": "6204ebf1",
   "metadata": {},
   "outputs": [],
   "source": [
    "ssc = StandardScaler()"
   ]
  },
  {
   "cell_type": "code",
   "execution_count": 290,
   "id": "38900cdd",
   "metadata": {},
   "outputs": [],
   "source": [
    "ssc.fit(X_train, y_train)\n",
    "X_train_ssc = ssc.transform(X_train)\n",
    "X_test_ssc = ssc.transform(X_test)"
   ]
  },
  {
   "cell_type": "markdown",
   "id": "cbf1f739",
   "metadata": {},
   "source": [
    "We will compare the following approaches:\n",
    "- No preprocessing\n",
    "- LMNN\n",
    "- StandardScaler \n",
    "- StandardScaler + LMNN"
   ]
  },
  {
   "cell_type": "code",
   "execution_count": 291,
   "id": "54b8b5d1",
   "metadata": {},
   "outputs": [
    {
     "name": "stderr",
     "output_type": "stream",
     "text": [
      "\n",
      "\n",
      "  0%|                                                    | 0/19 [00:00<?, ?it/s]\u001b[A\u001b[A\n",
      "\n",
      "  5%|██▎                                         | 1/19 [00:06<01:50,  6.15s/it]\u001b[A\u001b[A\n",
      "\n",
      " 11%|████▋                                       | 2/19 [00:13<01:50,  6.52s/it]\u001b[A\u001b[A\n",
      "\n",
      " 16%|██████▉                                     | 3/19 [00:19<01:42,  6.38s/it]\u001b[A\u001b[A\n",
      "\n",
      " 21%|█████████▎                                  | 4/19 [00:26<01:39,  6.64s/it]\u001b[A\u001b[A\n",
      "\n",
      " 26%|███████████▌                                | 5/19 [00:37<01:48,  7.76s/it]\u001b[A\u001b[A\n",
      "\n",
      " 32%|█████████████▉                              | 6/19 [00:46<01:45,  8.08s/it]\u001b[A\u001b[A\n",
      "\n",
      " 37%|████████████████▏                           | 7/19 [00:56<01:46,  8.89s/it]\u001b[A\u001b[A\n",
      "\n",
      " 42%|██████████████████▌                         | 8/19 [01:09<01:49,  9.93s/it]\u001b[A\u001b[A\n",
      "\n",
      " 47%|████████████████████▊                       | 9/19 [01:20<01:43, 10.39s/it]\u001b[A\u001b[A\n",
      "\n",
      " 53%|██████████████████████▋                    | 10/19 [01:36<01:49, 12.13s/it]\u001b[A\u001b[A\n",
      "\n",
      " 58%|████████████████████████▉                  | 11/19 [01:54<01:50, 13.75s/it]\u001b[A\u001b[A\n",
      "\n",
      " 63%|███████████████████████████▏               | 12/19 [02:11<01:44, 14.87s/it]\u001b[A\u001b[A\n",
      "\n",
      " 68%|█████████████████████████████▍             | 13/19 [02:32<01:39, 16.56s/it]\u001b[A\u001b[A\n",
      "\n",
      " 74%|███████████████████████████████▋           | 14/19 [02:55<01:33, 18.67s/it]\u001b[A\u001b[A\n",
      "\n",
      " 79%|█████████████████████████████████▉         | 15/19 [03:18<01:19, 19.86s/it]\u001b[A\u001b[A\n",
      "\n",
      " 84%|████████████████████████████████████▏      | 16/19 [03:43<01:03, 21.26s/it]\u001b[A\u001b[A\n",
      "\n",
      " 89%|██████████████████████████████████████▍    | 17/19 [04:09<00:45, 22.71s/it]\u001b[A\u001b[A\n",
      "\n",
      " 95%|████████████████████████████████████████▋  | 18/19 [04:35<00:23, 23.76s/it]\u001b[A\u001b[A\n",
      "\n",
      "100%|███████████████████████████████████████████| 19/19 [05:00<00:00, 24.09s/it]\u001b[A\u001b[A"
     ]
    }
   ],
   "source": [
    "ks = range(1, 20)\n",
    "quals_2d = []\n",
    "lmnn_quals_2d = []\n",
    "s_quals_2d = []\n",
    "s_lmnn_quals_2d = []\n",
    "mahs_2d = []\n",
    "s_mahs_2d = []\n",
    "for k in tqdm(ks):\n",
    "    knn = KNeighborsClassifier(n_neighbors=k)\n",
    "    knn.fit(X_train, y_train)\n",
    "    preds = knn.predict(X_test)\n",
    "    qual = acc(preds, y_test)\n",
    "    quals_2d.append(qual)\n",
    "    # LMNN fit    \n",
    "    lmnn = LMNN(k=k)\n",
    "    lmnn.fit(X_train, y_train)\n",
    "    lmnn_metric = lmnn.get_metric()\n",
    "    mahs_2d.append(lmnn.get_mahalanobis_matrix())\n",
    "    # LMNN predict\n",
    "    knn = KNeighborsClassifier(n_neighbors = k, metric = lmnn_metric)\n",
    "    knn.fit(X_train, y_train)\n",
    "    preds = knn.predict(X_test)\n",
    "    qual = acc(preds, y_test)\n",
    "    lmnn_quals_2d.append(qual)\n",
    "    # StandardScaler\n",
    "    knn = KNeighborsClassifier(n_neighbors=k)\n",
    "    knn.fit(X_train_ssc, y_train)\n",
    "    preds = knn.predict(X_test_ssc)\n",
    "    qual = acc(preds, y_test)\n",
    "    s_quals_2d.append(qual)\n",
    "    # Standard LMNN fit    \n",
    "    lmnn = LMNN(k=k)\n",
    "    lmnn.fit(X_train_ssc, y_train)\n",
    "    lmnn_s_metric = lmnn.get_metric()\n",
    "    s_mahs_2d.append(lmnn.get_mahalanobis_matrix())\n",
    "    # Standard LMNN predict\n",
    "    knn = KNeighborsClassifier(n_neighbors = k, metric = lmnn_s_metric)\n",
    "    knn.fit(X_train_ssc, y_train)\n",
    "    preds = knn.predict(X_test_ssc)\n",
    "    qual = acc(preds, y_test)\n",
    "    s_lmnn_quals_2d.append(qual)"
   ]
  },
  {
   "cell_type": "code",
   "execution_count": 292,
   "id": "b6facb40",
   "metadata": {},
   "outputs": [
    {
     "data": {
      "image/png": "[encoded data removed]",
      "text/plain": [
       "<Figure size 432x288 with 1 Axes>"
      ]
     },
     "metadata": {
      "needs_background": "light"
     },
     "output_type": "display_data"
    }
   ],
   "source": [
    "sns.scatterplot(ks, quals_2d, label = 'default')\n",
    "sns.scatterplot(ks, lmnn_quals_2d, label = 'LMNN')\n",
    "sns.scatterplot(ks, s_quals_2d, label = 'StandardScaler')\n",
    "sns.scatterplot(ks, s_lmnn_quals_2d, label = 'StandardScaler + LMNN')\n",
    "plt.legend(bbox_to_anchor=(1.04, 1), loc = 'upper left')\n",
    "plt.show()"
   ]
  },
  {
   "cell_type": "code",
   "execution_count": 295,
   "id": "fe2a9ba5",
   "metadata": {},
   "outputs": [
    {
     "data": {
      "text/html": [
       "<div>\n",
       "<style scoped>\n",
       "    .dataframe tbody tr th:only-of-type {\n",
       "        vertical-align: middle;\n",
       "    }\n",
       "\n",
       "    .dataframe tbody tr th {\n",
       "        vertical-align: top;\n",
       "    }\n",
       "\n",
       "    .dataframe thead th {\n",
       "        text-align: right;\n",
       "    }\n",
       "</style>\n",
       "<table border=\"1\" class=\"dataframe\">\n",
       "  <thead>\n",
       "    <tr style=\"text-align: right;\">\n",
       "      <th></th>\n",
       "      <th>0</th>\n",
       "      <th>1</th>\n",
       "    </tr>\n",
       "  </thead>\n",
       "  <tbody>\n",
       "    <tr>\n",
       "      <th>0</th>\n",
       "      <td>2.280826</td>\n",
       "      <td>0.137724</td>\n",
       "    </tr>\n",
       "    <tr>\n",
       "      <th>1</th>\n",
       "      <td>0.137724</td>\n",
       "      <td>3.407211</td>\n",
       "    </tr>\n",
       "  </tbody>\n",
       "</table>\n",
       "</div>"
      ],
      "text/plain": [
       "          0         1\n",
       "0  2.280826  0.137724\n",
       "1  0.137724  3.407211"
      ]
     },
     "execution_count": 295,
     "metadata": {},
     "output_type": "execute_result"
    }
   ],
   "source": [
    "pd.DataFrame(s_mahs_2d[-1])"
   ]
  },
  {
   "cell_type": "code",
   "execution_count": 299,
   "id": "b35769ab",
   "metadata": {},
   "outputs": [
    {
     "data": {
      "text/html": [
       "<div>\n",
       "<style scoped>\n",
       "    .dataframe tbody tr th:only-of-type {\n",
       "        vertical-align: middle;\n",
       "    }\n",
       "\n",
       "    .dataframe tbody tr th {\n",
       "        vertical-align: top;\n",
       "    }\n",
       "\n",
       "    .dataframe thead th {\n",
       "        text-align: right;\n",
       "    }\n",
       "</style>\n",
       "<table border=\"1\" class=\"dataframe\">\n",
       "  <thead>\n",
       "    <tr style=\"text-align: right;\">\n",
       "      <th></th>\n",
       "      <th>0</th>\n",
       "      <th>1</th>\n",
       "    </tr>\n",
       "  </thead>\n",
       "  <tbody>\n",
       "    <tr>\n",
       "      <th>0</th>\n",
       "      <td>0.170789</td>\n",
       "      <td>-0.020235</td>\n",
       "    </tr>\n",
       "    <tr>\n",
       "      <th>1</th>\n",
       "      <td>-0.020235</td>\n",
       "      <td>0.750696</td>\n",
       "    </tr>\n",
       "  </tbody>\n",
       "</table>\n",
       "</div>"
      ],
      "text/plain": [
       "          0         1\n",
       "0  0.170789 -0.020235\n",
       "1 -0.020235  0.750696"
      ]
     },
     "execution_count": 299,
     "metadata": {},
     "output_type": "execute_result"
    }
   ],
   "source": [
    "pd.DataFrame(mahs_2d[-1])"
   ]
  },
  {
   "cell_type": "markdown",
   "id": "fde5ad99",
   "metadata": {},
   "source": [
    "# A multidimensional example #"
   ]
  },
  {
   "cell_type": "code",
   "execution_count": null,
   "id": "725d19ab",
   "metadata": {},
   "outputs": [],
   "source": []
  },
  {
   "cell_type": "code",
   "execution_count": 255,
   "id": "a8106e3c",
   "metadata": {},
   "outputs": [],
   "source": [
    "d = 6\n",
    "d_meaningful = 4\n",
    "d_vars = np.random.uniform(1, 10, d)\n",
    "n = 10000\n",
    "X = np.random.normal(np.zeros(d), d_vars, (n, d))\n",
    "y = ((X[:, 0] - X[:, 1] + X[:, 2] ** (5 / 2) + np.log(X[:, 3])) > 1) * 1\n",
    "# add noise\n",
    "X += np.random.normal(np.zeros(d), 0.1, (n, d))"
   ]
  },
  {
   "cell_type": "code",
   "execution_count": 256,
   "id": "1eb3ad6d",
   "metadata": {},
   "outputs": [
    {
     "data": {
      "text/plain": [
       "0.2262"
      ]
     },
     "execution_count": 256,
     "metadata": {},
     "output_type": "execute_result"
    }
   ],
   "source": [
    "y.mean()"
   ]
  },
  {
   "cell_type": "code",
   "execution_count": 257,
   "id": "81beabe2",
   "metadata": {},
   "outputs": [],
   "source": [
    "X_train, X_test, y_train, y_test = train_test_split(X, y, train_size=0.5)"
   ]
  },
  {
   "cell_type": "code",
   "execution_count": 258,
   "id": "e42f0c5d",
   "metadata": {},
   "outputs": [],
   "source": [
    "ssc = StandardScaler()"
   ]
  },
  {
   "cell_type": "code",
   "execution_count": 259,
   "id": "00f783b3",
   "metadata": {},
   "outputs": [],
   "source": [
    "ssc.fit(X_train, y_train)\n",
    "X_train_ssc = ssc.transform(X_train)\n",
    "X_test_ssc = ssc.transform(X_test)"
   ]
  },
  {
   "cell_type": "code",
   "execution_count": 260,
   "id": "9efa2c4e",
   "metadata": {},
   "outputs": [],
   "source": [
    "from tqdm import tqdm"
   ]
  },
  {
   "cell_type": "code",
   "execution_count": 261,
   "id": "f0855581",
   "metadata": {},
   "outputs": [
    {
     "name": "stderr",
     "output_type": "stream",
     "text": [
      "\n",
      "  0%|                                                    | 0/24 [00:00<?, ?it/s]\u001b[A\n",
      "  4%|█▋                                       | 1/24 [10:49<4:08:55, 649.36s/it]\u001b[A\n",
      "  8%|███▍                                     | 2/24 [21:41<3:58:24, 650.22s/it]\u001b[A\n",
      " 12%|█████▏                                   | 3/24 [32:53<3:49:53, 656.85s/it]\u001b[A\n",
      " 17%|██████▊                                  | 4/24 [44:16<3:41:30, 664.51s/it]\u001b[A\n",
      " 21%|████████▌                                | 5/24 [55:44<3:32:38, 671.52s/it]\u001b[A\n",
      " 25%|█████████▊                             | 6/24 [1:07:25<3:24:07, 680.44s/it]\u001b[A\n",
      " 29%|███████████▍                           | 7/24 [1:19:22<3:15:53, 691.36s/it]\u001b[A\n",
      " 33%|█████████████                          | 8/24 [1:31:27<3:07:02, 701.39s/it]\u001b[A\n",
      " 38%|██████████████▋                        | 9/24 [1:43:55<2:58:50, 715.37s/it]\u001b[A\n",
      " 42%|███████████████▊                      | 10/24 [1:56:33<2:49:55, 728.27s/it]\u001b[A\n",
      " 46%|█████████████████▍                    | 11/24 [2:09:24<2:40:35, 741.21s/it]\u001b[A\n",
      " 50%|███████████████████                   | 12/24 [2:22:28<2:30:49, 754.09s/it]\u001b[A\n",
      " 54%|████████████████████▌                 | 13/24 [2:35:48<2:20:45, 767.82s/it]\u001b[A\n",
      " 58%|██████████████████████▏               | 14/24 [2:49:12<2:09:45, 778.51s/it]\u001b[A\n",
      " 62%|███████████████████████▊              | 15/24 [3:02:33<1:57:47, 785.26s/it]\u001b[A\n",
      " 67%|█████████████████████████▎            | 16/24 [3:16:00<1:45:34, 791.77s/it]\u001b[A\n",
      " 71%|██████████████████████████▉           | 17/24 [3:29:48<1:33:39, 802.80s/it]\u001b[A\n",
      " 75%|████████████████████████████▌         | 18/24 [3:43:42<1:21:11, 811.94s/it]\u001b[A\n",
      " 79%|██████████████████████████████        | 19/24 [3:57:55<1:08:42, 824.54s/it]\u001b[A\n",
      " 83%|█████████████████████████████████▎      | 20/24 [4:12:03<55:25, 831.47s/it]\u001b[A\n",
      " 88%|███████████████████████████████████     | 21/24 [4:26:16<41:53, 837.82s/it]\u001b[A\n",
      " 92%|████████████████████████████████████▋   | 22/24 [4:40:41<28:12, 846.17s/it]\u001b[A\n",
      " 96%|██████████████████████████████████████▎ | 23/24 [4:55:29<14:18, 858.73s/it]\u001b[A\n",
      "100%|████████████████████████████████████████| 24/24 [5:10:22<00:00, 868.74s/it]\u001b[A"
     ]
    }
   ],
   "source": [
    "ks = range(1, 25)\n",
    "quals = []\n",
    "lmnn_quals = []\n",
    "s_quals = []\n",
    "s_lmnn_quals = []\n",
    "mahs = []\n",
    "s_mahs = []\n",
    "for k in tqdm(ks):\n",
    "    knn = KNeighborsClassifier(n_neighbors=k)\n",
    "    knn.fit(X_train, y_train)\n",
    "    preds = knn.predict(X_test)\n",
    "    qual = acc(preds, y_test)\n",
    "    quals.append(qual)\n",
    "    # LMNN fit\n",
    "    lmnn = LMNN(k=k)\n",
    "    lmnn.fit(X_train, y_train)\n",
    "    lmnn_metric = lmnn.get_metric()\n",
    "    mahs.append(lmnn.get_mahalanobis_matrix())\n",
    "    # LMNN predict\n",
    "    knn = KNeighborsClassifier(n_neighbors = k, metric = lmnn_metric)\n",
    "    knn.fit(X_train, y_train)\n",
    "    preds = knn.predict(X_test)\n",
    "    qual = acc(preds, y_test)\n",
    "    lmnn_quals.append(qual)\n",
    "    # StandardScaler\n",
    "    knn = KNeighborsClassifier(n_neighbors=k)\n",
    "    knn.fit(X_train_ssc, y_train)\n",
    "    preds = knn.predict(X_test_ssc)\n",
    "    qual = acc(preds, y_test)\n",
    "    s_quals.append(qual)\n",
    "    # Standard LMNN fit    \n",
    "    lmnn = LMNN(k=k)\n",
    "    lmnn.fit(X_train_ssc, y_train)\n",
    "    lmnn_s_metric = lmnn.get_metric()\n",
    "    s_mahs.append(lmnn.get_mahalanobis_matrix())\n",
    "    # Standard LMNN predict\n",
    "    knn = KNeighborsClassifier(n_neighbors = k, metric = lmnn_s_metric)\n",
    "    knn.fit(X_train_ssc, y_train)\n",
    "    preds = knn.predict(X_test_ssc)\n",
    "    qual = acc(preds, y_test)\n",
    "    s_lmnn_quals.append(qual)"
   ]
  },
  {
   "cell_type": "code",
   "execution_count": 253,
   "id": "128dd657",
   "metadata": {},
   "outputs": [
    {
     "data": {
      "text/plain": [
       "array([4.28943016, 4.63503398, 4.38798714, 4.65754614, 4.76585447,\n",
       "       4.63217864])"
      ]
     },
     "execution_count": 253,
     "metadata": {},
     "output_type": "execute_result"
    }
   ],
   "source": [
    "d_vars"
   ]
  },
  {
   "cell_type": "code",
   "execution_count": 262,
   "id": "f4eacfa7",
   "metadata": {},
   "outputs": [
    {
     "data": {
      "image/png": "[encoded data removed]",
      "text/plain": [
       "<Figure size 432x288 with 1 Axes>"
      ]
     },
     "metadata": {
      "needs_background": "light"
     },
     "output_type": "display_data"
    }
   ],
   "source": [
    "sns.scatterplot(ks, quals, label = 'default')\n",
    "sns.scatterplot(ks, lmnn_quals, label = 'LMNN')\n",
    "sns.scatterplot(ks, s_quals, label = 'StandardScaler')\n",
    "sns.scatterplot(ks, s_lmnn_quals, label = 'StandardScaler + LMNN')\n",
    "plt.legend(bbox_to_anchor=(1.04, 1), loc = 'upper left')\n",
    "plt.show()"
   ]
  },
  {
   "cell_type": "code",
   "execution_count": 264,
   "id": "5dec35ad",
   "metadata": {},
   "outputs": [
    {
     "data": {
      "text/html": [
       "<div>\n",
       "<style scoped>\n",
       "    .dataframe tbody tr th:only-of-type {\n",
       "        vertical-align: middle;\n",
       "    }\n",
       "\n",
       "    .dataframe tbody tr th {\n",
       "        vertical-align: top;\n",
       "    }\n",
       "\n",
       "    .dataframe thead th {\n",
       "        text-align: right;\n",
       "    }\n",
       "</style>\n",
       "<table border=\"1\" class=\"dataframe\">\n",
       "  <thead>\n",
       "    <tr style=\"text-align: right;\">\n",
       "      <th></th>\n",
       "      <th>0</th>\n",
       "      <th>1</th>\n",
       "      <th>2</th>\n",
       "      <th>3</th>\n",
       "      <th>4</th>\n",
       "      <th>5</th>\n",
       "    </tr>\n",
       "  </thead>\n",
       "  <tbody>\n",
       "    <tr>\n",
       "      <th>0</th>\n",
       "      <td>1.264410</td>\n",
       "      <td>0.005948</td>\n",
       "      <td>0.041915</td>\n",
       "      <td>0.008483</td>\n",
       "      <td>0.010105</td>\n",
       "      <td>-0.004448</td>\n",
       "    </tr>\n",
       "    <tr>\n",
       "      <th>1</th>\n",
       "      <td>0.005948</td>\n",
       "      <td>1.265841</td>\n",
       "      <td>-0.036580</td>\n",
       "      <td>0.006993</td>\n",
       "      <td>-0.009479</td>\n",
       "      <td>0.009080</td>\n",
       "    </tr>\n",
       "    <tr>\n",
       "      <th>2</th>\n",
       "      <td>0.041915</td>\n",
       "      <td>-0.036580</td>\n",
       "      <td>1.910448</td>\n",
       "      <td>0.045269</td>\n",
       "      <td>-0.019210</td>\n",
       "      <td>-0.017760</td>\n",
       "    </tr>\n",
       "    <tr>\n",
       "      <th>3</th>\n",
       "      <td>0.008483</td>\n",
       "      <td>0.006993</td>\n",
       "      <td>0.045269</td>\n",
       "      <td>1.803333</td>\n",
       "      <td>-0.002575</td>\n",
       "      <td>-0.016315</td>\n",
       "    </tr>\n",
       "    <tr>\n",
       "      <th>4</th>\n",
       "      <td>0.010105</td>\n",
       "      <td>-0.009479</td>\n",
       "      <td>-0.019210</td>\n",
       "      <td>-0.002575</td>\n",
       "      <td>1.264440</td>\n",
       "      <td>0.008323</td>\n",
       "    </tr>\n",
       "    <tr>\n",
       "      <th>5</th>\n",
       "      <td>-0.004448</td>\n",
       "      <td>0.009080</td>\n",
       "      <td>-0.017760</td>\n",
       "      <td>-0.016315</td>\n",
       "      <td>0.008323</td>\n",
       "      <td>1.260396</td>\n",
       "    </tr>\n",
       "  </tbody>\n",
       "</table>\n",
       "</div>"
      ],
      "text/plain": [
       "          0         1         2         3         4         5\n",
       "0  1.264410  0.005948  0.041915  0.008483  0.010105 -0.004448\n",
       "1  0.005948  1.265841 -0.036580  0.006993 -0.009479  0.009080\n",
       "2  0.041915 -0.036580  1.910448  0.045269 -0.019210 -0.017760\n",
       "3  0.008483  0.006993  0.045269  1.803333 -0.002575 -0.016315\n",
       "4  0.010105 -0.009479 -0.019210 -0.002575  1.264440  0.008323\n",
       "5 -0.004448  0.009080 -0.017760 -0.016315  0.008323  1.260396"
      ]
     },
     "execution_count": 264,
     "metadata": {},
     "output_type": "execute_result"
    }
   ],
   "source": [
    "pd.DataFrame(s_mahs[-1])"
   ]
  },
  {
   "cell_type": "code",
   "execution_count": 296,
   "id": "d1ae0b0b",
   "metadata": {},
   "outputs": [
    {
     "data": {
      "text/html": [
       "<div>\n",
       "<style scoped>\n",
       "    .dataframe tbody tr th:only-of-type {\n",
       "        vertical-align: middle;\n",
       "    }\n",
       "\n",
       "    .dataframe tbody tr th {\n",
       "        vertical-align: top;\n",
       "    }\n",
       "\n",
       "    .dataframe thead th {\n",
       "        text-align: right;\n",
       "    }\n",
       "</style>\n",
       "<table border=\"1\" class=\"dataframe\">\n",
       "  <thead>\n",
       "    <tr style=\"text-align: right;\">\n",
       "      <th></th>\n",
       "      <th>0</th>\n",
       "      <th>1</th>\n",
       "      <th>2</th>\n",
       "      <th>3</th>\n",
       "      <th>4</th>\n",
       "      <th>5</th>\n",
       "    </tr>\n",
       "  </thead>\n",
       "  <tbody>\n",
       "    <tr>\n",
       "      <th>0</th>\n",
       "      <td>0.021866</td>\n",
       "      <td>-0.000112</td>\n",
       "      <td>0.000840</td>\n",
       "      <td>0.000111</td>\n",
       "      <td>0.000062</td>\n",
       "      <td>-0.000027</td>\n",
       "    </tr>\n",
       "    <tr>\n",
       "      <th>1</th>\n",
       "      <td>-0.000112</td>\n",
       "      <td>0.022007</td>\n",
       "      <td>-0.000278</td>\n",
       "      <td>0.000121</td>\n",
       "      <td>-0.000145</td>\n",
       "      <td>0.000160</td>\n",
       "    </tr>\n",
       "    <tr>\n",
       "      <th>2</th>\n",
       "      <td>0.000840</td>\n",
       "      <td>-0.000278</td>\n",
       "      <td>0.031833</td>\n",
       "      <td>0.001002</td>\n",
       "      <td>-0.000208</td>\n",
       "      <td>-0.000317</td>\n",
       "    </tr>\n",
       "    <tr>\n",
       "      <th>3</th>\n",
       "      <td>0.000111</td>\n",
       "      <td>0.000121</td>\n",
       "      <td>0.001002</td>\n",
       "      <td>0.034412</td>\n",
       "      <td>-0.000108</td>\n",
       "      <td>-0.000325</td>\n",
       "    </tr>\n",
       "    <tr>\n",
       "      <th>4</th>\n",
       "      <td>0.000062</td>\n",
       "      <td>-0.000145</td>\n",
       "      <td>-0.000208</td>\n",
       "      <td>-0.000108</td>\n",
       "      <td>0.021841</td>\n",
       "      <td>0.000162</td>\n",
       "    </tr>\n",
       "    <tr>\n",
       "      <th>5</th>\n",
       "      <td>-0.000027</td>\n",
       "      <td>0.000160</td>\n",
       "      <td>-0.000317</td>\n",
       "      <td>-0.000325</td>\n",
       "      <td>0.000162</td>\n",
       "      <td>0.021861</td>\n",
       "    </tr>\n",
       "  </tbody>\n",
       "</table>\n",
       "</div>"
      ],
      "text/plain": [
       "          0         1         2         3         4         5\n",
       "0  0.021866 -0.000112  0.000840  0.000111  0.000062 -0.000027\n",
       "1 -0.000112  0.022007 -0.000278  0.000121 -0.000145  0.000160\n",
       "2  0.000840 -0.000278  0.031833  0.001002 -0.000208 -0.000317\n",
       "3  0.000111  0.000121  0.001002  0.034412 -0.000108 -0.000325\n",
       "4  0.000062 -0.000145 -0.000208 -0.000108  0.021841  0.000162\n",
       "5 -0.000027  0.000160 -0.000317 -0.000325  0.000162  0.021861"
      ]
     },
     "execution_count": 296,
     "metadata": {},
     "output_type": "execute_result"
    }
   ],
   "source": [
    "pd.DataFrame(mahs[-1])"
   ]
  },
  {
   "cell_type": "code",
   "execution_count": null,
   "id": "9e303d2e",
   "metadata": {},
   "outputs": [],
   "source": []
  }
 ],
 "metadata": {
  "kernelspec": {
   "display_name": "Python 3 (ipykernel)",
   "language": "python",
   "name": "python3"
  },
  "language_info": {
   "codemirror_mode": {
    "name": "ipython",
    "version": 3
   },
   "file_extension": ".py",
   "mimetype": "text/x-python",
   "name": "python",
   "nbconvert_exporter": "python",
   "pygments_lexer": "ipython3",
   "version": "3.8.10"
  }
 },
 "nbformat": 4,
 "nbformat_minor": 5
}
